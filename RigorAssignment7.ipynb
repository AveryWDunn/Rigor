{
  "nbformat": 4,
  "nbformat_minor": 0,
  "metadata": {
    "colab": {
      "provenance": [],
      "authorship_tag": "ABX9TyOd+W8pqMIzxOiPLnSy5InS"
    },
    "kernelspec": {
      "name": "python3",
      "display_name": "Python 3"
    },
    "language_info": {
      "name": "python"
    }
  },
  "cells": [
    {
      "cell_type": "markdown",
      "source": [
        "Today's Date: October 31, 2023"
      ],
      "metadata": {
        "id": "cNbCp1-XKwL3"
      }
    },
    {
      "cell_type": "code",
      "source": [
        "2*5"
      ],
      "metadata": {
        "colab": {
          "base_uri": "https://localhost:8080/"
        },
        "id": "4hi3gwPPK3Vs",
        "outputId": "bc996500-4eb5-40eb-e0ac-9b3c0d2dee4e"
      },
      "execution_count": 1,
      "outputs": [
        {
          "output_type": "execute_result",
          "data": {
            "text/plain": [
              "10"
            ]
          },
          "metadata": {},
          "execution_count": 1
        }
      ]
    },
    {
      "cell_type": "markdown",
      "source": [
        "Reflection:\n",
        "\n",
        "Using reposititories in computational analysis is extremely important for reproducibility. It is important that the scientific community has access to the exact data that one used in publishing their paper so that the results can be assessed for accuracy and reproduciibility. Tracking changes is important as it shows exactly what the researcher did at all stages of data cleaning and data analysis. Fortunately there are programs now such as Github that can automatically track changes. This is extremely useful as it promotes reproducibility while also alleviating the burden on the researcher to manually record all changes themself. Github is further beneficial as it functions as a community environment where people can look at other people's data and help point out errors and troubleshoot problenms.\n"
      ],
      "metadata": {
        "id": "5yKYU1G6K-jK"
      }
    }
  ]
}